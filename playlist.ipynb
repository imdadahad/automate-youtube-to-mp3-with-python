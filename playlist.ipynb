{
 "cells": [
  {
   "cell_type": "code",
   "execution_count": 4,
   "metadata": {},
   "outputs": [],
   "source": [
    "import youtube_dl\n"
   ]
  },
  {
   "cell_type": "code",
   "execution_count": 6,
   "metadata": {},
   "outputs": [
    {
     "data": {
      "text/plain": [
       "'https://www.youtube.com/playlist?list=PLbP8TnyV5zNY8r3vSH1nSkGKaIYzdwx4b'"
      ]
     },
     "execution_count": 6,
     "metadata": {},
     "output_type": "execute_result"
    }
   ],
   "source": [
    "ydl = youtube_dl.YoutubeDL({'format': 'bestaudio/best',\n",
    "                            # 'keepvideo': True,\n",
    "                            'quiet': True,\n",
    "                            # 'outtmpl': output_path,\n",
    "                            'postprocessors': [{\n",
    "                                'key': 'FFmpegExtractAudio',\n",
    "                                'preferredcodec': 'mp3',\n",
    "                                'preferredquality': '192'}]}).extract_info(\n",
    "    url=\"https://www.youtube.com/playlist?list=PLbP8TnyV5zNY8r3vSH1nSkGKaIYzdwx4b\", download=False)\n",
    "\n",
    "ydl['webpage_url']\n",
    "# with ydl:\n",
    "#     result = ydl.download(\n",
    "#         ['https://www.youtube.com/playlist?list=PLbP8TnyV5zNY8r3vSH1nSkGKaIYzdwx4b'])\n",
    "\n",
    "# print(\"result: \", result)\n"
   ]
  },
  {
   "cell_type": "code",
   "execution_count": 7,
   "metadata": {},
   "outputs": [
    {
     "data": {
      "text/plain": [
       "{'quiet': True,\n",
       " 'format': 'bestaudio/best',\n",
       " 'keepvideo': True,\n",
       " 'outtmpl': 1,\n",
       " 'postprocessors': [{'key': 'FFmpegExtractAudio',\n",
       "   'preferredcodec': 'mp3',\n",
       "   'preferredquality': '192'}]}"
      ]
     },
     "execution_count": 7,
     "metadata": {},
     "output_type": "execute_result"
    }
   ],
   "source": [
    "p = {\n",
    "    # reduces the several line of output to barest minimal and therefore, time\n",
    "    'quiet': True,\n",
    "    # 'noplaylist': True,\n",
    "    'format': 'bestaudio/best',\n",
    "    'keepvideo': True,\n",
    "    'outtmpl': 1,\n",
    "    'postprocessors': [{\n",
    "        'key': 'FFmpegExtractAudio',\n",
    "        'preferredcodec': 'mp3',\n",
    "        'preferredquality': '192',\n",
    "    }]\n",
    "}\n",
    "p"
   ]
  },
  {
   "cell_type": "code",
   "execution_count": 9,
   "metadata": {},
   "outputs": [
    {
     "data": {
      "text/plain": [
       "{'quiet': True,\n",
       " 'format': 'bestaudio/best',\n",
       " 'keepvideo': True,\n",
       " 'postprocessors': [{'key': 'FFmpegExtractAudio',\n",
       "   'preferredcodec': 'mp3',\n",
       "   'preferredquality': '192'}]}"
      ]
     },
     "execution_count": 9,
     "metadata": {},
     "output_type": "execute_result"
    }
   ],
   "source": [
    "del p['outtmpl'] \n",
    "p\n"
   ]
  }
 ],
 "metadata": {
  "interpreter": {
   "hash": "67e6a4aa325bcd0e0aaaeb4e623fbf1760d37df0ebdc8dc3b72d0ab217e1e634"
  },
  "kernelspec": {
   "display_name": "Python 3.9.7 64-bit ('myenv': conda)",
   "name": "python3"
  },
  "language_info": {
   "codemirror_mode": {
    "name": "ipython",
    "version": 3
   },
   "file_extension": ".py",
   "mimetype": "text/x-python",
   "name": "python",
   "nbconvert_exporter": "python",
   "pygments_lexer": "ipython3",
   "version": "3.9.7"
  },
  "orig_nbformat": 4
 },
 "nbformat": 4,
 "nbformat_minor": 2
}
